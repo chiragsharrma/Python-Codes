{
  "nbformat": 4,
  "nbformat_minor": 0,
  "metadata": {
    "colab": {
      "name": "Untitled0.ipynb",
      "provenance": [],
      "authorship_tag": "ABX9TyODbSz6Y5bdMlS48FE2TQkc",
      "include_colab_link": true
    },
    "kernelspec": {
      "name": "python3",
      "display_name": "Python 3"
    },
    "language_info": {
      "name": "python"
    }
  },
  "cells": [
    {
      "cell_type": "markdown",
      "metadata": {
        "id": "view-in-github",
        "colab_type": "text"
      },
      "source": [
        "<a href=\"https://colab.research.google.com/github/chiragsharrma/Python-Codes/blob/main/practice.ipynb\" target=\"_parent\"><img src=\"https://colab.research.google.com/assets/colab-badge.svg\" alt=\"Open In Colab\"/></a>"
      ]
    },
    {
      "cell_type": "code",
      "metadata": {
        "id": "Een4ZT3Fmjlv"
      },
      "source": [
        "has_good_credit = True \n",
        "has_criminal_record = True\n",
        "if  has_good_credit and not has_criminal_record:\n",
        "\tprint(\"eligible for loan\")"
      ],
      "execution_count": 5,
      "outputs": []
    },
    {
      "cell_type": "code",
      "metadata": {
        "colab": {
          "base_uri": "https://localhost:8080/"
        },
        "id": "YxBmUth0q-76",
        "outputId": "82dad849-c40e-4351-b803-6c83024af753"
      },
      "source": [
        "weight = int(input(\"weight: \"))\n",
        "unit = input(\"L(lbs) or K(kg): \")\n",
        "if unit.upper() == \"L\":\n",
        "\tconverted = (weight) * 0.45\n",
        "\tprint(converted)\n",
        "else :\n",
        "\tunit.upper() == \"K\"\n",
        "\tconverted = weight/0.45\n",
        "\tprint(converted)"
      ],
      "execution_count": 7,
      "outputs": [
        {
          "output_type": "stream",
          "name": "stdout",
          "text": [
            "weight: 45\n",
            "L(lbs) or K(kg): l\n",
            "20.25\n"
          ]
        }
      ]
    },
    {
      "cell_type": "code",
      "metadata": {
        "colab": {
          "base_uri": "https://localhost:8080/"
        },
        "id": "yDA2_iG6tQk2",
        "outputId": "5f8eed5c-054a-429d-daa6-07c4e43ae5eb"
      },
      "source": [
        "secret_number = 9\n",
        "guess_count = 0\n",
        "guess_limit = 3\n",
        "while guess_count < guess_limit :\n",
        "  Guess = int(input(\"Guess: \"))\n",
        "  guess_count += 1\n",
        "  if Guess == secret_number:\n",
        "    print(\"Number found\")  \n",
        "else : \n",
        "  print(\"sir you exhausted\")   \n"
      ],
      "execution_count": 10,
      "outputs": [
        {
          "output_type": "stream",
          "name": "stdout",
          "text": [
            "Guess: 1\n",
            "Guess: 2\n",
            "Guess: 3\n",
            "sir you exhausted\n"
          ]
        }
      ]
    }
  ]
}