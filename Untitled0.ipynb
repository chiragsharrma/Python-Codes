{
  "nbformat": 4,
  "nbformat_minor": 0,
  "metadata": {
    "colab": {
      "name": "Untitled0.ipynb",
      "provenance": [],
      "authorship_tag": "ABX9TyPJNb/CbBuTik2iw8dg1VdR",
      "include_colab_link": true
    },
    "kernelspec": {
      "name": "python3",
      "display_name": "Python 3"
    },
    "language_info": {
      "name": "python"
    }
  },
  "cells": [
    {
      "cell_type": "markdown",
      "metadata": {
        "id": "view-in-github",
        "colab_type": "text"
      },
      "source": [
        "<a href=\"https://colab.research.google.com/github/chiragsharrma/Python-Codes/blob/main/Untitled0.ipynb\" target=\"_parent\"><img src=\"https://colab.research.google.com/assets/colab-badge.svg\" alt=\"Open In Colab\"/></a>"
      ]
    },
    {
      "cell_type": "code",
      "metadata": {
        "id": "Een4ZT3Fmjlv"
      },
      "source": [
        "has_good_credit = True \n",
        "has_criminal_record = True\n",
        "if  has_good_credit and not has_criminal_record:\n",
        "\tprint(\"eligible for loan\")"
      ],
      "execution_count": 5,
      "outputs": []
    },
    {
      "cell_type": "code",
      "metadata": {
        "colab": {
          "base_uri": "https://localhost:8080/"
        },
        "id": "YxBmUth0q-76",
        "outputId": "82dad849-c40e-4351-b803-6c83024af753"
      },
      "source": [
        "weight = int(input(\"weight: \"))\n",
        "unit = input(\"L(lbs) or K(kg): \")\n",
        "if unit.upper() == \"L\":\n",
        "\tconverted = (weight) * 0.45\n",
        "\tprint(converted)\n",
        "else :\n",
        "\tunit.upper() == \"K\"\n",
        "\tconverted = weight/0.45\n",
        "\tprint(converted)"
      ],
      "execution_count": 7,
      "outputs": [
        {
          "output_type": "stream",
          "name": "stdout",
          "text": [
            "weight: 45\n",
            "L(lbs) or K(kg): l\n",
            "20.25\n"
          ]
        }
      ]
    },
    {
      "cell_type": "code",
      "metadata": {
        "colab": {
          "base_uri": "https://localhost:8080/"
        },
        "id": "yDA2_iG6tQk2",
        "outputId": "5f8eed5c-054a-429d-daa6-07c4e43ae5eb"
      },
      "source": [
        "secret_number = 9\n",
        "guess_count = 0\n",
        "guess_limit = 3\n",
        "while guess_count < guess_limit :\n",
        "  Guess = int(input(\"Guess: \"))\n",
        "  guess_count += 1\n",
        "  if Guess == secret_number:\n",
        "    print(\"Number found\")  \n",
        "else : \n",
        "  print(\"sir you exhausted\")   \n"
      ],
      "execution_count": 10,
      "outputs": [
        {
          "output_type": "stream",
          "name": "stdout",
          "text": [
            "Guess: 1\n",
            "Guess: 2\n",
            "Guess: 3\n",
            "sir you exhausted\n"
          ]
        }
      ]
    },
    {
      "cell_type": "code",
      "metadata": {
        "id": "bbvoiUUvw_8v"
      },
      "source": [
        "for item in \"python\":\n",
        "  print(item)\n",
        "for item in range(5,12):\n",
        "  print(item)"
      ],
      "execution_count": null,
      "outputs": []
    },
    {
      "cell_type": "code",
      "metadata": {
        "id": "mBgOtTEi1bBA"
      },
      "source": [
        "numbers = [5,8,9,10,4]\n",
        "for x_count in numbers:\n",
        "  output = ''\n",
        "  for count in range(x_count):\n",
        "    output += 'x'\n",
        "  print(\"output\")  \n",
        "    "
      ],
      "execution_count": null,
      "outputs": []
    },
    {
      "cell_type": "code",
      "metadata": {
        "colab": {
          "base_uri": "https://localhost:8080/"
        },
        "id": "VqjfUrEq28tS",
        "outputId": "1b4f811e-9930-488b-f5ee-855cb43878ed"
      },
      "source": [
        "names = ['sarah','arman','samrat','sahil']\n",
        "print(names[2:4])\n",
        "print(names[0:-1])\n",
        "print(names[0:1])"
      ],
      "execution_count": 22,
      "outputs": [
        {
          "output_type": "stream",
          "name": "stdout",
          "text": [
            "['samrat', 'sahil']\n",
            "['sarah', 'arman', 'samrat']\n",
            "['sarah']\n"
          ]
        }
      ]
    },
    {
      "cell_type": "code",
      "metadata": {
        "id": "Cv3UAdXI4c2f"
      },
      "source": [
        "numbers = [5,8,9,10,4]\n",
        "max = numbers[0]\n",
        "for number in numbers:\n",
        "  if(number > max):\n",
        "    max = number\n",
        "print(max)\n",
        "numbers.append(20)\n",
        "print(numbers)\n",
        "numbers.insert(0,10)\n",
        "print(numbers)\n",
        "numbers.pop()\n",
        "print(numbers)\n",
        "print(numbers.index(5))\n",
        "print(50 in numbers)\n",
        "numbers.sort()\n",
        "print(numbers.count(8))\n",
        "print(numbers)\n",
        "numbers.reverse()\n",
        "print(numbers)\n",
        "numbers2 = numbers.copy()\n",
        "numbers.append(16)\n",
        "print(numbers2)\n",
        "print(numbers)\n",
        "\n"
      ],
      "execution_count": null,
      "outputs": []
    },
    {
      "cell_type": "code",
      "metadata": {
        "colab": {
          "base_uri": "https://localhost:8080/"
        },
        "id": "LJAjjQliHhCC",
        "outputId": "471c3276-1bbe-44af-ac52-aef527fea3dd"
      },
      "source": [
        "numbers = [5,8,9,10,4,4,9,10]\n",
        "uniques = []\n",
        "for number in numbers:\n",
        "  if number not in uniques:\n",
        "    uniques.append(number)\n",
        "print(uniques)"
      ],
      "execution_count": 32,
      "outputs": [
        {
          "output_type": "stream",
          "name": "stdout",
          "text": [
            "[5, 8, 9, 10, 4]\n"
          ]
        }
      ]
    },
    {
      "cell_type": "code",
      "metadata": {
        "colab": {
          "base_uri": "https://localhost:8080/"
        },
        "id": "vP4sGLK9KHNJ",
        "outputId": "3021fabd-b129-4242-d0ab-ff46a6c4dd53"
      },
      "source": [
        "numberss = [5, 8, 9]\n",
        "x, y, z = numberss\n",
        "print(z)"
      ],
      "execution_count": 34,
      "outputs": [
        {
          "output_type": "stream",
          "name": "stdout",
          "text": [
            "9\n"
          ]
        }
      ]
    },
    {
      "cell_type": "code",
      "metadata": {
        "colab": {
          "base_uri": "https://localhost:8080/"
        },
        "id": "VJNTbRPqZ5rS",
        "outputId": "11f05cb5-1b89-4518-c3be-318b78bf4e3a"
      },
      "source": [
        "message = input(\">\")\n",
        "words = message.split(' ')\n",
        "emojis = {\n",
        "    \":)\": \"smile\",\n",
        "    \":(\" : \"sad\",\n",
        "    \"::\": \"stunned\"\n",
        "}\n",
        "output = \" \"\n",
        "for word in words:\n",
        " output += emojis.get(word, word) + \" \"\n",
        "print(output) "
      ],
      "execution_count": 40,
      "outputs": [
        {
          "output_type": "stream",
          "name": "stdout",
          "text": [
            ">good morning sunshine :)\n",
            " good morning sunshine smile \n"
          ]
        }
      ]
    },
    {
      "cell_type": "code",
      "metadata": {
        "id": "h-0uTbEEemuc"
      },
      "source": [
        "def emoji_converter(message):\n",
        "  words = message.split()\n",
        "  emojis = {\n",
        "      \":)\": \"smile\",\n",
        "    \":(\" : \"sad\",\n",
        "    \"::\": \"stunned\"\n",
        "  }\n",
        "  output = \" \"\n",
        "  for word in words:\n",
        "    output += emojis.get(word,word) + \" \"\n",
        "  return output  "
      ],
      "execution_count": 42,
      "outputs": []
    },
    {
      "cell_type": "code",
      "metadata": {
        "colab": {
          "base_uri": "https://localhost:8080/"
        },
        "id": "Yj9lYsFRf736",
        "outputId": "4f3d28e8-9a22-426c-c466-2f10311acca8"
      },
      "source": [
        "try:\n",
        "    age = int(input(\"Age: \"))\n",
        "    print(age)\n",
        "except ValueError:\n",
        "  print(\"invalid literal\")\n",
        "except ZeroDivisionError:\n",
        "  print(\"age can not be zero\")#this was try and except because we should anticipate error for the ease of users"
      ],
      "execution_count": 46,
      "outputs": [
        {
          "output_type": "stream",
          "name": "stdout",
          "text": [
            "Age: 0\n",
            "0\n"
          ]
        }
      ]
    },
    {
      "cell_type": "code",
      "metadata": {
        "id": "Swm_HprthMx5"
      },
      "source": [
        ""
      ],
      "execution_count": null,
      "outputs": []
    }
  ]
}